{
 "cells": [
  {
   "cell_type": "markdown",
   "id": "7848c61d",
   "metadata": {},
   "source": [
    "# PYTHON\n",
    "# TOPIC : BASIC PRIMER\n",
    "# AUTHOR: MEBZ\n"
   ]
  },
  {
   "cell_type": "code",
   "execution_count": 1,
   "id": "8d90e318",
   "metadata": {},
   "outputs": [
    {
     "data": {
      "text/plain": [
       "'Hello World'"
      ]
     },
     "execution_count": 1,
     "metadata": {},
     "output_type": "execute_result"
    }
   ],
   "source": [
    "# Test Python 1\n",
    "\"Hello World\""
   ]
  },
  {
   "cell_type": "code",
   "execution_count": 2,
   "id": "2aa9816c",
   "metadata": {},
   "outputs": [
    {
     "name": "stdout",
     "output_type": "stream",
     "text": [
      "Hello World\n"
     ]
    }
   ],
   "source": [
    "# Test Python 2\n",
    "print(\"Hello World\")"
   ]
  },
  {
   "cell_type": "markdown",
   "id": "bc89448e",
   "metadata": {},
   "source": [
    "# TOC\n",
    "\n",
    "- Types\n",
    "- Identifiers\n",
    "- Variable assignments\n",
    "- ..."
   ]
  },
  {
   "cell_type": "markdown",
   "id": "3ff192ed",
   "metadata": {},
   "source": [
    "# TYPES"
   ]
  },
  {
   "cell_type": "code",
   "execution_count": null,
   "id": "e46b9f67",
   "metadata": {},
   "outputs": [],
   "source": []
  },
  {
   "cell_type": "markdown",
   "id": "4105f370",
   "metadata": {},
   "source": [
    "# IDENTIFIERS"
   ]
  },
  {
   "cell_type": "code",
   "execution_count": null,
   "id": "ee8475f5",
   "metadata": {},
   "outputs": [],
   "source": []
  },
  {
   "cell_type": "code",
   "execution_count": null,
   "id": "5009e1e2",
   "metadata": {},
   "outputs": [],
   "source": []
  }
 ],
 "metadata": {
  "kernelspec": {
   "display_name": "Python 3 (ipykernel)",
   "language": "python",
   "name": "python3"
  },
  "language_info": {
   "codemirror_mode": {
    "name": "ipython",
    "version": 3
   },
   "file_extension": ".py",
   "mimetype": "text/x-python",
   "name": "python",
   "nbconvert_exporter": "python",
   "pygments_lexer": "ipython3",
   "version": "3.9.12"
  }
 },
 "nbformat": 4,
 "nbformat_minor": 5
}
