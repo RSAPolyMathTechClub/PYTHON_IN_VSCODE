{
 "cells": [
  {
   "cell_type": "markdown",
   "id": "dd568d82",
   "metadata": {},
   "source": [
    "# PYTHON\n",
    "# TOPIC : PYTHON LISTS (AKA ARRAYS)\n",
    "# AUTHOR: MEBZ\n"
   ]
  },
  {
   "cell_type": "markdown",
   "id": "68c08a1e",
   "metadata": {},
   "source": [
    "# ARRAYS\n",
    "\n",
    "- \"Python has no built-in support for array, Lists can be used instead of arrays\"\n",
    "\n",
    "- A basic special variable that can hold more than one value at a time\n",
    "- All the values are store under one name\n",
    "- The values can be accessd by refering to their index in the array\n",
    "\n",
    "- An ordered sequence\n"
   ]
  },
  {
   "cell_type": "markdown",
   "id": "8f0fec8c",
   "metadata": {},
   "source": [
    "-"
   ]
  },
  {
   "cell_type": "code",
   "execution_count": 2,
   "id": "90d2a149",
   "metadata": {},
   "outputs": [
    {
     "data": {
      "text/plain": [
       "[1, 2, 3, 4]"
      ]
     },
     "execution_count": 2,
     "metadata": {},
     "output_type": "execute_result"
    }
   ],
   "source": [
    "# Build an array (a list)\n",
    "lst = [1, 2, 3, 4]\n",
    "lst "
   ]
  },
  {
   "cell_type": "code",
   "execution_count": 3,
   "id": "9f1661f3",
   "metadata": {},
   "outputs": [
    {
     "name": "stdout",
     "output_type": "stream",
     "text": [
      "[1, 2, 3, 4]\n"
     ]
    }
   ],
   "source": [
    "# Build an array (a list)\n",
    "lst = [1, 2, 3, 4]\n",
    "print(lst) "
   ]
  },
  {
   "cell_type": "code",
   "execution_count": 5,
   "id": "e7dbfeee",
   "metadata": {},
   "outputs": [
    {
     "name": "stdout",
     "output_type": "stream",
     "text": [
      "1\n",
      "4\n"
     ]
    }
   ],
   "source": [
    "# access an element in an array\n",
    "# you refer to an array element by refering to the index number\n",
    "# the indices are from 0 to n-1\n",
    "\n",
    "print(lst[0])\n",
    "print(lst[3])"
   ]
  },
  {
   "cell_type": "code",
   "execution_count": 9,
   "id": "06821b52",
   "metadata": {},
   "outputs": [
    {
     "name": "stdout",
     "output_type": "stream",
     "text": [
      "1\n",
      "2\n",
      "3\n",
      "4\n",
      "1 2 3 4 "
     ]
    }
   ],
   "source": [
    "# loop the list/array\n",
    "for var in lst:\n",
    "    print(var)\n",
    "    \n",
    "for var in lst:\n",
    "    print(var, end=\" \")"
   ]
  },
  {
   "cell_type": "markdown",
   "id": "8d1ae7bf",
   "metadata": {},
   "source": [
    "# METHODS OF LIST OR ARRAYS\n",
    "- append()\n",
    "- clear()\n",
    "- copy()\n",
    "- clear()  ?? - Returns the number of elements with the specified value\n",
    "- count()\n",
    "- index()\n",
    "- insert()\n",
    "- pop()\n",
    "- remove()\n",
    "- reverse()\n",
    "- sort()"
   ]
  },
  {
   "cell_type": "markdown",
   "id": "1d2b7deb",
   "metadata": {},
   "source": [
    "# METHODS : EXAMPLES"
   ]
  },
  {
   "cell_type": "markdown",
   "id": "679e9c2e",
   "metadata": {},
   "source": [
    "# append()"
   ]
  },
  {
   "cell_type": "code",
   "execution_count": 12,
   "id": "b48dc8c4",
   "metadata": {},
   "outputs": [
    {
     "name": "stdout",
     "output_type": "stream",
     "text": [
      "Origional list:\n",
      "['Audi', 'Ford', 'Honda', 'Bentley', 'Chysler']\n",
      "Appended list:\n",
      "['BMW', 'Ford', 'Honda', 'Bentley', 'Chysler']\n"
     ]
    }
   ],
   "source": [
    "# Adds an element at the end of the list\n",
    "\n",
    "# Origional list\n",
    "car = [\"Audi\", \"Ford\",\"Honda\",\"Bentley\", \"Chysler\"]\n",
    "\n",
    "# print list\n",
    "print(\"Origional list:\")\n",
    "print(car)\n",
    "\n",
    "# change the first element\n",
    "car[0] = \"BMW\"\n",
    "\n",
    "# print list\n",
    "print(\"Appended list:\")\n",
    "print(car)\n",
    "\n"
   ]
  },
  {
   "cell_type": "markdown",
   "id": "4dad3871",
   "metadata": {},
   "source": [
    "# clear()"
   ]
  },
  {
   "cell_type": "code",
   "execution_count": 15,
   "id": "c042839e",
   "metadata": {},
   "outputs": [
    {
     "name": "stdout",
     "output_type": "stream",
     "text": [
      "['BMW', 'Ford', 'Honda', 'Bentley', 'Chysler']\n",
      "[]\n"
     ]
    }
   ],
   "source": [
    "# Removes all the elements of a list\n",
    "car_copy = car\n",
    "print(car_copy)\n",
    "\n",
    "car_copy.clear()\n",
    "print(car_copy)"
   ]
  },
  {
   "cell_type": "markdown",
   "id": "e36510af",
   "metadata": {},
   "source": [
    "# copy()"
   ]
  },
  {
   "cell_type": "code",
   "execution_count": 20,
   "id": "387ff185",
   "metadata": {},
   "outputs": [],
   "source": [
    "# Returns a copy of a the list\n",
    "\n"
   ]
  },
  {
   "cell_type": "markdown",
   "id": "9cb9af54",
   "metadata": {},
   "source": []
  }
 ],
 "metadata": {
  "kernelspec": {
   "display_name": "Python 3 (ipykernel)",
   "language": "python",
   "name": "python3"
  },
  "language_info": {
   "codemirror_mode": {
    "name": "ipython",
    "version": 3
   },
   "file_extension": ".py",
   "mimetype": "text/x-python",
   "name": "python",
   "nbconvert_exporter": "python",
   "pygments_lexer": "ipython3",
   "version": "3.9.12"
  }
 },
 "nbformat": 4,
 "nbformat_minor": 5
}
